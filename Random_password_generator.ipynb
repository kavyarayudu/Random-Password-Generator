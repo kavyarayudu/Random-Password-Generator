{
  "nbformat": 4,
  "nbformat_minor": 0,
  "metadata": {
    "colab": {
      "name": "Random password generator.ipynb",
      "provenance": [],
      "toc_visible": true,
      "authorship_tag": "ABX9TyMqK0KJ40bKjz7KCDCJia/C",
      "include_colab_link": true
    },
    "kernelspec": {
      "name": "python3",
      "display_name": "Python 3"
    },
    "language_info": {
      "name": "python"
    }
  },
  "cells": [
    {
      "cell_type": "markdown",
      "metadata": {
        "id": "view-in-github",
        "colab_type": "text"
      },
      "source": [
        "<a href=\"https://colab.research.google.com/github/kavyarayudu/Random-Password-Generator/blob/main/Random_password_generator.ipynb\" target=\"_parent\"><img src=\"https://colab.research.google.com/assets/colab-badge.svg\" alt=\"Open In Colab\"/></a>"
      ]
    },
    {
      "cell_type": "code",
      "execution_count": 1,
      "metadata": {
        "colab": {
          "base_uri": "https://localhost:8080/"
        },
        "id": "uDfXwa16w3Cs",
        "outputId": "62d30c12-6674-49e8-b858-f2ea99790daf"
      },
      "outputs": [
        {
          "output_type": "stream",
          "name": "stdout",
          "text": [
            "Enter Password Length6\n",
            "9W&W7e\n"
          ]
        }
      ],
      "source": [
        "import random\n",
        "import math\n",
        "\n",
        "alpha = \"abcdefghijklmnopqrstuvwxyz\"\n",
        "num = \"0123456789\"\n",
        "special = \"@#$%&*\"\n",
        "\n",
        "# pass_len=random.randint(8,13)  #without User INput\n",
        "pass_len = int(input(\"Enter Password Length\"))\n",
        "\n",
        "# length of password by 50-30-20 formula\n",
        "alpha_len = pass_len//2\n",
        "num_len = math.ceil(pass_len*30/100)\n",
        "special_len = pass_len-(alpha_len+num_len)\n",
        "\n",
        "\n",
        "password = []\n",
        "\n",
        "\n",
        "def generate_pass(length, array, is_alpha=False):\n",
        "    for i in range(length):\n",
        "        index = random.randint(0, len(array) - 1)\n",
        "        character = array[index]\n",
        "        if is_alpha:\n",
        "            case = random.randint(0, 1)\n",
        "            if case == 1:\n",
        "                character = character.upper()\n",
        "        password.append(character)\n",
        "\n",
        "\n",
        "# alpha password\n",
        "generate_pass(alpha_len, alpha, True)\n",
        "# numeric password\n",
        "generate_pass(num_len, num)\n",
        "# special Character password\n",
        "generate_pass(special_len, special)\n",
        "# suffle the generated password list\n",
        "random.shuffle(password)\n",
        "# convert List To string\n",
        "gen_password = \"\"\n",
        "for i in password:\n",
        "    gen_password = gen_password + str(i)\n",
        "print(gen_password)"
      ]
    }
  ]
}